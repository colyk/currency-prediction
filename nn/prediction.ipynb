{
 "cells": [
  {
   "cell_type": "code",
   "execution_count": 61,
   "metadata": {},
   "outputs": [],
   "source": [
    "import pandas as pd\n",
    "import numpy as np\n",
    "import matplotlib.pylab as plt\n",
    "import numpy\n",
    "%matplotlib inline"
   ]
  },
  {
   "cell_type": "code",
   "execution_count": 62,
   "metadata": {},
   "outputs": [],
   "source": [
    "from keras.layers import Dense\n",
    "from keras.models import Sequential"
   ]
  },
  {
   "cell_type": "code",
   "execution_count": 63,
   "metadata": {},
   "outputs": [
    {
     "data": {
      "text/html": [
       "<div>\n",
       "<style scoped>\n",
       "    .dataframe tbody tr th:only-of-type {\n",
       "        vertical-align: middle;\n",
       "    }\n",
       "\n",
       "    .dataframe tbody tr th {\n",
       "        vertical-align: top;\n",
       "    }\n",
       "\n",
       "    .dataframe thead th {\n",
       "        text-align: right;\n",
       "    }\n",
       "</style>\n",
       "<table border=\"1\" class=\"dataframe\">\n",
       "  <thead>\n",
       "    <tr style=\"text-align: right;\">\n",
       "      <th></th>\n",
       "      <th>datetime</th>\n",
       "      <th>PLN</th>\n",
       "      <th>RUB</th>\n",
       "    </tr>\n",
       "  </thead>\n",
       "  <tbody>\n",
       "    <tr>\n",
       "      <th>0</th>\n",
       "      <td>2011-11-11</td>\n",
       "      <td>3.240659</td>\n",
       "      <td>30.456264</td>\n",
       "    </tr>\n",
       "    <tr>\n",
       "      <th>1</th>\n",
       "      <td>2011-11-14</td>\n",
       "      <td>3.218098</td>\n",
       "      <td>30.494326</td>\n",
       "    </tr>\n",
       "    <tr>\n",
       "      <th>2</th>\n",
       "      <td>2011-11-15</td>\n",
       "      <td>3.262267</td>\n",
       "      <td>30.708691</td>\n",
       "    </tr>\n",
       "    <tr>\n",
       "      <th>3</th>\n",
       "      <td>2011-11-16</td>\n",
       "      <td>3.283595</td>\n",
       "      <td>30.773509</td>\n",
       "    </tr>\n",
       "    <tr>\n",
       "      <th>4</th>\n",
       "      <td>2011-11-17</td>\n",
       "      <td>3.292878</td>\n",
       "      <td>30.859718</td>\n",
       "    </tr>\n",
       "  </tbody>\n",
       "</table>\n",
       "</div>"
      ],
      "text/plain": [
       "     datetime       PLN        RUB\n",
       "0  2011-11-11  3.240659  30.456264\n",
       "1  2011-11-14  3.218098  30.494326\n",
       "2  2011-11-15  3.262267  30.708691\n",
       "3  2011-11-16  3.283595  30.773509\n",
       "4  2011-11-17  3.292878  30.859718"
      ]
     },
     "execution_count": 63,
     "metadata": {},
     "output_type": "execute_result"
    }
   ],
   "source": [
    "data = pd.read_csv('../currency_data')\n",
    "data.head()"
   ]
  },
  {
   "cell_type": "code",
   "execution_count": 98,
   "metadata": {},
   "outputs": [],
   "source": [
    "rub_features = data.RUB.values\n",
    "rub_labels = data.RUB.index.to_numpy()\n"
   ]
  },
  {
   "cell_type": "code",
   "execution_count": 101,
   "metadata": {},
   "outputs": [
    {
     "name": "stdout",
     "output_type": "stream",
     "text": [
      "[30.45626374 30.49432609 30.70869051 ... 63.7167103  63.86197209\n",
      " 63.88180418]\n",
      "[   0    1    2 ... 2042 2043 2044]\n"
     ]
    }
   ],
   "source": [
    "print(rub_features)\n",
    "print(rub_labels)"
   ]
  },
  {
   "cell_type": "code",
   "execution_count": null,
   "metadata": {},
   "outputs": [],
   "source": [
    "def scale_indexes(indexes, labels):\n",
    "    min_, ptp = indexes.min(), indexes.ptp()\n",
    "    scaled_indexes = \n",
    "    y -= y.min()\n",
    "    y_ = y / y.ptp()\n",
    "    print(y_)\n",
    "    def get_label(y):\n",
    "        y *= ptp\n",
    "        y += min_\n",
    "        return y\n",
    "    return y_, get_label"
   ]
  },
  {
   "cell_type": "code",
   "execution_count": null,
   "metadata": {},
   "outputs": [],
   "source": []
  },
  {
   "cell_type": "code",
   "execution_count": null,
   "metadata": {},
   "outputs": [],
   "source": []
  },
  {
   "cell_type": "code",
   "execution_count": null,
   "metadata": {},
   "outputs": [],
   "source": []
  },
  {
   "cell_type": "code",
   "execution_count": 88,
   "metadata": {},
   "outputs": [],
   "source": [
    "def build_model(X, Y):\n",
    "    model = Sequential()\n",
    "\n",
    "    model.add(Dense(12, input_dim=1, activation=\"relu\"))\n",
    "    model.add(Dense(8, activation=\"relu\"))\n",
    "    model.add(Dense(1))\n",
    "\n",
    "    model.compile(loss='mean_squared_error', optimizer='adam')\n",
    "    model.fit(X, Y, epochs=50, batch_size=2, verbose=2)\n"
   ]
  },
  {
   "cell_type": "code",
   "execution_count": 89,
   "metadata": {},
   "outputs": [],
   "source": [
    "def scale_y(y):\n",
    "    print(y.ptp())\n",
    "    y -= y.min()\n",
    "    \n",
    "    y_ = y / y.ptp()\n",
    "    print(y_)\n",
    "    def unscale(y):\n",
    "        y *= ptp\n",
    "        y += min_\n",
    "        return y\n",
    "    return y_, unscale"
   ]
  },
  {
   "cell_type": "code",
   "execution_count": 90,
   "metadata": {},
   "outputs": [
    {
     "name": "stdout",
     "output_type": "stream",
     "text": [
      "2044\n",
      "[0.00000000e+00 4.89236791e-04 9.78473581e-04 ... 9.99021526e-01\n",
      " 9.99510763e-01 1.00000000e+00]\n"
     ]
    }
   ],
   "source": [
    "Y, unscale = scale_y(Y)"
   ]
  },
  {
   "cell_type": "code",
   "execution_count": 91,
   "metadata": {},
   "outputs": [
    {
     "name": "stdout",
     "output_type": "stream",
     "text": [
      "Epoch 1/50\n",
      " - 2s - loss: 17.6676\n",
      "Epoch 2/50\n",
      " - 2s - loss: 0.0528\n",
      "Epoch 3/50\n",
      " - 2s - loss: 0.0456\n",
      "Epoch 4/50\n",
      " - 2s - loss: 0.0385\n",
      "Epoch 5/50\n",
      " - 2s - loss: 0.0342\n",
      "Epoch 6/50\n",
      " - 2s - loss: 0.0335\n",
      "Epoch 7/50\n",
      " - 2s - loss: 0.0324\n",
      "Epoch 8/50\n",
      " - 2s - loss: 0.0383\n",
      "Epoch 9/50\n",
      " - 2s - loss: 0.0379\n",
      "Epoch 10/50\n",
      " - 2s - loss: 0.0383\n",
      "Epoch 11/50\n",
      " - 2s - loss: 0.0372\n",
      "Epoch 12/50\n",
      " - 2s - loss: 0.0381\n",
      "Epoch 13/50\n",
      " - 2s - loss: 0.0349\n",
      "Epoch 14/50\n",
      " - 2s - loss: 0.0385\n",
      "Epoch 15/50\n",
      " - 2s - loss: 0.0381\n",
      "Epoch 16/50\n",
      " - 2s - loss: 0.0350\n",
      "Epoch 17/50\n",
      " - 2s - loss: 0.0351\n",
      "Epoch 18/50\n",
      " - 2s - loss: 0.0357\n",
      "Epoch 19/50\n",
      " - 2s - loss: 0.0324\n",
      "Epoch 20/50\n",
      " - 2s - loss: 0.0372\n",
      "Epoch 21/50\n",
      " - 2s - loss: 0.0332\n",
      "Epoch 22/50\n",
      " - 2s - loss: 0.0338\n",
      "Epoch 23/50\n",
      " - 2s - loss: 0.0345\n",
      "Epoch 24/50\n",
      " - 2s - loss: 0.0316\n",
      "Epoch 25/50\n",
      " - 2s - loss: 0.0325\n",
      "Epoch 26/50\n",
      " - 2s - loss: 0.0330\n",
      "Epoch 27/50\n",
      " - 2s - loss: 0.0316\n",
      "Epoch 28/50\n",
      " - 2s - loss: 0.0313\n",
      "Epoch 29/50\n",
      " - 2s - loss: 0.0320\n",
      "Epoch 30/50\n",
      " - 2s - loss: 0.0338\n",
      "Epoch 31/50\n",
      " - 2s - loss: 0.0312\n",
      "Epoch 32/50\n",
      " - 2s - loss: 0.0312\n",
      "Epoch 33/50\n",
      " - 2s - loss: 0.0317\n",
      "Epoch 34/50\n",
      " - 2s - loss: 0.0299\n",
      "Epoch 35/50\n",
      " - 2s - loss: 0.0300\n",
      "Epoch 36/50\n",
      " - 2s - loss: 0.0310\n",
      "Epoch 37/50\n",
      " - 2s - loss: 0.0301\n",
      "Epoch 38/50\n",
      " - 2s - loss: 0.0307\n",
      "Epoch 39/50\n",
      " - 2s - loss: 0.0291\n",
      "Epoch 40/50\n",
      " - 2s - loss: 0.0298\n",
      "Epoch 41/50\n",
      " - 2s - loss: 0.0291\n",
      "Epoch 42/50\n",
      " - 2s - loss: 0.0290\n",
      "Epoch 43/50\n",
      " - 2s - loss: 0.0281\n",
      "Epoch 44/50\n",
      " - 2s - loss: 0.0287\n",
      "Epoch 45/50\n",
      " - 2s - loss: 0.0282\n",
      "Epoch 46/50\n",
      " - 2s - loss: 0.0285\n",
      "Epoch 47/50\n",
      " - 2s - loss: 0.0282\n",
      "Epoch 48/50\n",
      " - 2s - loss: 0.0279\n",
      "Epoch 49/50\n",
      " - 2s - loss: 0.0278\n",
      "Epoch 50/50\n",
      " - 2s - loss: 0.0274\n"
     ]
    }
   ],
   "source": [
    "model = build_model(X, Y)"
   ]
  },
  {
   "cell_type": "code",
   "execution_count": null,
   "metadata": {},
   "outputs": [],
   "source": []
  }
 ],
 "metadata": {
  "kernelspec": {
   "display_name": "Python 3",
   "language": "python",
   "name": "python3"
  },
  "language_info": {
   "codemirror_mode": {
    "name": "ipython",
    "version": 3
   },
   "file_extension": ".py",
   "mimetype": "text/x-python",
   "name": "python",
   "nbconvert_exporter": "python",
   "pygments_lexer": "ipython3",
   "version": "3.7.3"
  }
 },
 "nbformat": 4,
 "nbformat_minor": 2
}
